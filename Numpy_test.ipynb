{
 "cells": [
  {
   "cell_type": "markdown",
   "id": "454f666e-17ef-44ad-8cac-04f099e501cd",
   "metadata": {},
   "source": [
    "Numpy100题地址\n",
    "\n",
    "https://github.com/rougier/numpy-100/blob/master/100_Numpy_exercises.md"
   ]
  },
  {
   "cell_type": "markdown",
   "id": "f0add514-cf89-4b89-b239-f9ee907f4169",
   "metadata": {},
   "source": [
    "IgLM: Generative language modeling for antibody design\n",
    "\n",
    "Google colab地址：https://colab.research.google.com/github/Graylab/IgLM/blob/main/IgLM.ipynb#scrollTo=5AEsv1z5KXXA"
   ]
  },
  {
   "cell_type": "markdown",
   "id": "7088d905-c905-4d53-9bff-2dddf11ddcc8",
   "metadata": {},
   "source": [
    "使用 NumPy 创建和操作数组的基本方法：\n",
    "\n",
    "np.array 创建数组。\n",
    "\n",
    ".shape 查看数组维度。\n",
    "\n",
    "数组元素可通过索引访问和修改。\n",
    "\n",
    "一维数组的形状如 (3,)，二维数组如 (2, 3)。"
   ]
  },
  {
   "cell_type": "code",
   "execution_count": 1,
   "id": "4192488d-fdfd-4812-a2f9-e92f58d13098",
   "metadata": {},
   "outputs": [
    {
     "name": "stdout",
     "output_type": "stream",
     "text": [
      "<class 'numpy.ndarray'>\n",
      "(3,)\n",
      "1 2 3\n",
      "[5 2 3]\n",
      "(2, 3)\n",
      "1 2 4\n"
     ]
    }
   ],
   "source": [
    "import numpy as np\n",
    "\n",
    "a = np.array([1, 2, 3])   # Create a rank 1 array\n",
    "print(type(a))            # Prints \"<class 'numpy.ndarray'>\"\n",
    "print(a.shape)            # Prints \"(3,)\"\n",
    "print(a[0], a[1], a[2])   # Prints \"1 2 3\"\n",
    "a[0] = 5                  # Change an element of the array\n",
    "print(a)                  # Prints \"[5, 2, 3]\"\n",
    "\n",
    "b = np.array([[1,2,3],[4,5,6]])    # Create a rank 2 array\n",
    "print(b.shape)                     # Prints \"(2, 3)\"\n",
    "print(b[0, 0], b[0, 1], b[1, 0])   # Prints \"1 2 4\""
   ]
  },
  {
   "cell_type": "markdown",
   "id": "a1cc2240-b960-4fb3-bbd8-901055403af2",
   "metadata": {},
   "source": [
    "使用 NumPy 创建各种类型数组的方法：\n",
    "\n",
    "这些函数用于快速生成不同初始化方式的数组，在数据处理和科学计算中非常实用：\n",
    "\n",
    "np.zeros / np.ones：初始化为0或1；\n",
    "\n",
    "np.full：初始化为指定常数；\n",
    "\n",
    "np.eye：生成单位矩阵（适合线性代数）；\n",
    "\n",
    "np.random.random：生成指定形状的随机数数组。"
   ]
  },
  {
   "cell_type": "code",
   "execution_count": 2,
   "id": "170a010f-251a-4dcc-9b7c-7534e619051a",
   "metadata": {},
   "outputs": [
    {
     "name": "stdout",
     "output_type": "stream",
     "text": [
      "[[0. 0.]\n",
      " [0. 0.]]\n",
      "[[1. 1.]]\n",
      "[[7 7]\n",
      " [7 7]]\n",
      "[[1. 0.]\n",
      " [0. 1.]]\n",
      "[[0.22370715 0.65774805]\n",
      " [0.07732815 0.63378913]]\n"
     ]
    }
   ],
   "source": [
    "import numpy as np\n",
    "\n",
    "a = np.zeros((2,2))   # Create an array of all zeros\n",
    "print(a)              # Prints \"[[ 0.  0.]\n",
    "                      #          [ 0.  0.]]\"\n",
    "\n",
    "b = np.ones((1,2))    # Create an array of all ones\n",
    "print(b)              # Prints \"[[ 1.  1.]]\"\n",
    "\n",
    "c = np.full((2,2), 7)  # Create a constant array\n",
    "print(c)               # Prints \"[[ 7.  7.]\n",
    "                       #          [ 7.  7.]]\"\n",
    "\n",
    "d = np.eye(2)         # Create a 2x2 identity matrix\n",
    "print(d)              # Prints \"[[ 1.  0.]\n",
    "                      #          [ 0.  1.]]\"\n",
    "\n",
    "e = np.random.random((2,2))  # Create an array filled with random values\n",
    "print(e)                     # Might print \"[[ 0.91940167  0.08143941]\n",
    "                             #               [ 0.68744134  0.87236687]]\"\n"
   ]
  },
  {
   "cell_type": "markdown",
   "id": "87c1b5e5-674d-4380-9c2f-b6f952d913c8",
   "metadata": {},
   "source": [
    "NumPy 中数组切片（slicing）的用法，切片是原数组的视图（view）\n",
    "\n",
    "使用 : 进行切片可以获取子数组；\n",
    "\n",
    "切片返回的是原数组的视图（view），不是拷贝；\n",
    "\n",
    "修改视图会影响原数组。"
   ]
  },
  {
   "cell_type": "code",
   "execution_count": 2,
   "id": "597f9c8c-830a-41f8-9730-0850fb45650b",
   "metadata": {},
   "outputs": [
    {
     "name": "stdout",
     "output_type": "stream",
     "text": [
      "2\n",
      "77\n"
     ]
    }
   ],
   "source": [
    "import numpy as np\n",
    "\n",
    "# Create the following rank 2 array with shape (3, 4)\n",
    "# [[ 1  2  3  4]\n",
    "#  [ 5  6  7  8]\n",
    "#  [ 9 10 11 12]]\n",
    "a = np.array([[1,2,3,4], [5,6,7,8], [9,10,11,12]])\n",
    "\n",
    "# Use slicing to pull out the subarray consisting of the first 2 rows\n",
    "# and columns 1 and 2; b is the following array of shape (2, 2):\n",
    "# [[2 3]\n",
    "#  [6 7]]\n",
    "b = a[:2, 1:3]\n",
    "\n",
    "# A slice of an array is a view into the same data, so modifying it\n",
    "# will modify the original array.\n",
    "print(a[0, 1])   # Prints \"2\"\n",
    "b[0, 0] = 77     # b[0, 0] is the same piece of data as a[0, 1]\n",
    "print(a[0, 1])   # Prints \"77\"\n"
   ]
  },
  {
   "cell_type": "code",
   "execution_count": null,
   "id": "27449872-b107-499c-a8cb-f7545ae32a15",
   "metadata": {},
   "outputs": [],
   "source": [
    "NumPy 中切片与整数索引的差别：\n",
    "\n",
    "整数索引 + 切片\t降维\n",
    "\n",
    "纯切片\t保持维度"
   ]
  },
  {
   "cell_type": "code",
   "execution_count": 3,
   "id": "5e7021f2-8ab9-4742-8622-271c88016bab",
   "metadata": {},
   "outputs": [
    {
     "name": "stdout",
     "output_type": "stream",
     "text": [
      "[5 6 7 8] (4,)\n",
      "[[5 6 7 8]] (1, 4)\n",
      "[ 2  6 10] (3,)\n",
      "[[ 2]\n",
      " [ 6]\n",
      " [10]] (3, 1)\n"
     ]
    }
   ],
   "source": [
    "import numpy as np\n",
    "\n",
    "# Create the following rank 2 array with shape (3, 4)\n",
    "# [[ 1  2  3  4]\n",
    "#  [ 5  6  7  8]\n",
    "#  [ 9 10 11 12]]\n",
    "a = np.array([[1,2,3,4], [5,6,7,8], [9,10,11,12]])\n",
    "\n",
    "# Two ways of accessing the data in the middle row of the array.\n",
    "# Mixing integer indexing with slices yields an array of lower rank,\n",
    "# while using only slices yields an array of the same rank as the\n",
    "# original array:\n",
    "row_r1 = a[1, :]    # Rank 1 view of the second row of a\n",
    "row_r2 = a[1:2, :]  # Rank 2 view of the second row of a\n",
    "print(row_r1, row_r1.shape)  # Prints \"[5 6 7 8] (4,)\"\n",
    "print(row_r2, row_r2.shape)  # Prints \"[[5 6 7 8]] (1, 4)\"\n",
    "\n",
    "# We can make the same distinction when accessing columns of an array:\n",
    "col_r1 = a[:, 1]\n",
    "col_r2 = a[:, 1:2]\n",
    "print(col_r1, col_r1.shape)  # Prints \"[ 2  6 10] (3,)\"\n",
    "print(col_r2, col_r2.shape)  # Prints \"[[ 2]\n",
    "                             #          [ 6]\n",
    "                             #          [10]] (3, 1)\""
   ]
  },
  {
   "cell_type": "code",
   "execution_count": null,
   "id": "a469c68d-9dd4-4307-b5ea-b273f4b2296b",
   "metadata": {},
   "outputs": [],
   "source": [
    "NumPy 中的整数数组索引：\n",
    "\n",
    "使用两个整数数组 [i1, i2, ...] 和 [j1, j2, ...]，可一次性提取多个元素：a[[i1, i2], [j1, j2]]\n",
    "\n",
    "返回的一维数组长度 = 索引数组长度\n",
    "\n",
    "支持重复、跨行列取值，非常适合灵活抽取特定位置的元素集合。"
   ]
  },
  {
   "cell_type": "code",
   "execution_count": 4,
   "id": "f7c76dc5-7763-449d-a8f4-6826ea7fc4ed",
   "metadata": {},
   "outputs": [
    {
     "name": "stdout",
     "output_type": "stream",
     "text": [
      "[1 4 5]\n",
      "[1 4 5]\n",
      "[2 2]\n",
      "[2 2]\n"
     ]
    }
   ],
   "source": [
    "import numpy as np\n",
    "\n",
    "a = np.array([[1,2], [3, 4], [5, 6]])\n",
    "\n",
    "# An example of integer array indexing.\n",
    "# The returned array will have shape (3,) and\n",
    "print(a[[0, 1, 2], [0, 1, 0]])  # Prints \"[1 4 5]\"\n",
    "\n",
    "# The above example of integer array indexing is equivalent to this:\n",
    "print(np.array([a[0, 0], a[1, 1], a[2, 0]]))  # Prints \"[1 4 5]\"\n",
    "\n",
    "# When using integer array indexing, you can reuse the same\n",
    "# element from the source array:\n",
    "print(a[[0, 0], [1, 1]])  # Prints \"[2 2]\"\n",
    "\n",
    "# Equivalent to the previous integer array indexing example\n",
    "print(np.array([a[0, 1], a[0, 1]]))  # Prints \"[2 2]\"\n"
   ]
  },
  {
   "cell_type": "code",
   "execution_count": null,
   "id": "84ff3fe8-90d6-4ee1-b786-da4f9afb648c",
   "metadata": {},
   "outputs": [],
   "source": [
    "NumPy 中的布尔索引：\n",
    "\n",
    "布尔索引利用一个布尔数组筛选对应位置为 True 的元素；\n",
    "\n",
    "筛选结果为一维数组，元素顺序按原数组顺序排列；\n",
    "\n",
    "这种方式简洁高效，常用于根据条件选取数组中的部分数据。"
   ]
  },
  {
   "cell_type": "code",
   "execution_count": 5,
   "id": "f7bd63b5-cc1f-40fa-ac7b-4d2c220ab09f",
   "metadata": {},
   "outputs": [
    {
     "name": "stdout",
     "output_type": "stream",
     "text": [
      "[[False False]\n",
      " [ True  True]\n",
      " [ True  True]]\n",
      "[3 4 5 6]\n",
      "[3 4 5 6]\n"
     ]
    }
   ],
   "source": [
    "import numpy as np\n",
    "\n",
    "a = np.array([[1,2], [3, 4], [5, 6]])\n",
    "\n",
    "bool_idx = (a > 2)   # Find the elements of a that are bigger than 2;\n",
    "                     # this returns a numpy array of Booleans of the same\n",
    "                     # shape as a, where each slot of bool_idx tells\n",
    "                     # whether that element of a is > 2.\n",
    "\n",
    "print(bool_idx)      # Prints \"[[False False]\n",
    "                     #          [ True  True]\n",
    "                     #          [ True  True]]\"\n",
    "\n",
    "# We use boolean array indexing to construct a rank 1 array\n",
    "# consisting of the elements of a corresponding to the True values\n",
    "# of bool_idx\n",
    "print(a[bool_idx])  # Prints \"[3 4 5 6]\"\n",
    "\n",
    "# We can do all of the above in a single concise statement:\n",
    "print(a[a > 2])     # Prints \"[3 4 5 6]\""
   ]
  },
  {
   "cell_type": "code",
   "execution_count": null,
   "id": "47c9f2db-8f42-4d62-a4bd-5baf3ae28af5",
   "metadata": {},
   "outputs": [],
   "source": [
    "NumPy 数组的数据类型（dtype）自动推断与手动指定的用法：\n",
    "\n",
    "NumPy 默认根据数据内容自动选择合适的类型；\n",
    "\n",
    "可以用 dtype 参数强制指定数据类型；\n",
    "\n",
    "数据类型影响数组内存占用和计算性能。"
   ]
  },
  {
   "cell_type": "code",
   "execution_count": 6,
   "id": "d8739a4b-a560-4686-a975-c28310587a42",
   "metadata": {},
   "outputs": [
    {
     "name": "stdout",
     "output_type": "stream",
     "text": [
      "int32\n",
      "float64\n",
      "int64\n"
     ]
    }
   ],
   "source": [
    "import numpy as np\n",
    "\n",
    "x = np.array([1, 2])   # Let numpy choose the datatype\n",
    "print(x.dtype)         # Prints \"int64\"\n",
    "\n",
    "x = np.array([1.0, 2.0])   # Let numpy choose the datatype\n",
    "print(x.dtype)             # Prints \"float64\"\n",
    "\n",
    "x = np.array([1, 2], dtype=np.int64)   # Force a particular datatype\n",
    "print(x.dtype)                         # Prints \"int64\"\n"
   ]
  },
  {
   "cell_type": "code",
   "execution_count": null,
   "id": "ce49119c-4487-4f1e-bcca-3a5fa24fc172",
   "metadata": {},
   "outputs": [],
   "source": [
    "NumPy 中常见的 逐元素（elementwise）算术运算，包括加法、减法、乘法、除法和平方根，操作对象是两个形状相同的二维浮点数组：\n",
    "\n",
    "使用运算符（+, -, *, /）或对应的 NumPy 函数（np.add，np.subtract，np.multiply，np.divide）进行元素间的逐元素运算，结果相同。\n",
    "\n",
    "逐元素运算对同形状数组按位置一一操作。\n",
    "\n",
    "还可使用 np.sqrt 等函数对数组元素逐个进行数学计算。\n",
    "\n",
    "这些操作简洁、高效，是 NumPy 数组计算的基础。"
   ]
  },
  {
   "cell_type": "code",
   "execution_count": 8,
   "id": "7ffe4556-3d7c-4668-a3cd-5325af644376",
   "metadata": {},
   "outputs": [
    {
     "name": "stdout",
     "output_type": "stream",
     "text": [
      "[[ 6.  8.]\n",
      " [10. 12.]]\n",
      "[[ 6.  8.]\n",
      " [10. 12.]]\n",
      "[[-4. -4.]\n",
      " [-4. -4.]]\n",
      "[[-4. -4.]\n",
      " [-4. -4.]]\n",
      "[[ 5. 12.]\n",
      " [21. 32.]]\n",
      "[[ 5. 12.]\n",
      " [21. 32.]]\n",
      "[[0.2        0.33333333]\n",
      " [0.42857143 0.5       ]]\n",
      "[[0.2        0.33333333]\n",
      " [0.42857143 0.5       ]]\n",
      "[[1.         1.41421356]\n",
      " [1.73205081 2.        ]]\n"
     ]
    }
   ],
   "source": [
    "import numpy as np \n",
    "x = np.array([[1,2],[3,4]], dtype=np.float64) \n",
    "y = np.array([[5,6],[7,8]], dtype=np.float64) \n",
    "# Elementwise sum; both produce the array \n",
    "# [[ 6.0 8.0] \n",
    "# [10.0 12.0]] \n",
    "print(x + y) \n",
    "print(np.add(x, y)) \n",
    "# Elementwise difference; both produce the array \n",
    "# [[-4.0 -4.0] \n",
    "# [-4.0 -4.0]] \n",
    "print(x - y) \n",
    "print(np.subtract(x, y)) \n",
    "# Elementwise product; both produce the array \n",
    "# [[ 5.0 12.0] \n",
    "# [21.0 32.0]] \n",
    "print(x * y) \n",
    "print(np.multiply(x, y)) \n",
    "# Elementwise division; both produce the array \n",
    "# [[ 0.2 0.33333333] \n",
    "# [ 0.42857143 0.5 ]] \n",
    "print(x / y) \n",
    "print(np.divide(x, y)) \n",
    "# Elementwise square root; produces the array \n",
    "# [[ 1. 1.41421356] \n",
    "# [ 1.73205081 2. ]] \n",
    "print(np.sqrt(x))\n"
   ]
  },
  {
   "cell_type": "code",
   "execution_count": null,
   "id": "9fd1588e-be80-42e6-858e-afc812387741",
   "metadata": {},
   "outputs": [],
   "source": []
  }
 ],
 "metadata": {
  "kernelspec": {
   "display_name": "Python 3 (ipykernel)",
   "language": "python",
   "name": "python3"
  },
  "language_info": {
   "codemirror_mode": {
    "name": "ipython",
    "version": 3
   },
   "file_extension": ".py",
   "mimetype": "text/x-python",
   "name": "python",
   "nbconvert_exporter": "python",
   "pygments_lexer": "ipython3",
   "version": "3.12.7"
  }
 },
 "nbformat": 4,
 "nbformat_minor": 5
}
