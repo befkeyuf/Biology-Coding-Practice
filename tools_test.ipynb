{
 "cells": [
  {
   "cell_type": "code",
   "execution_count": null,
   "id": "e4b77a97-fa5c-4ade-9e3d-c27437406f63",
   "metadata": {},
   "outputs": [],
   "source": [
    "我们来写出人生中第一个程序！"
   ]
  },
  {
   "cell_type": "code",
   "execution_count": 1,
   "id": "e501255a-caa1-4703-a52d-ce17cd62e60d",
   "metadata": {},
   "outputs": [
    {
     "name": "stdout",
     "output_type": "stream",
     "text": [
      "Hello, world!\n"
     ]
    }
   ],
   "source": [
    "print(\"Hello, world!\")\n"
   ]
  },
  {
   "attachments": {},
   "cell_type": "markdown",
   "id": "26d532ce-384a-4075-93dc-8c37da034342",
   "metadata": {},
   "source": [
    "举个例子：我自己！"
   ]
  },
  {
   "cell_type": "code",
   "execution_count": 5,
   "id": "479f7a21-5db9-4fe1-9f12-2b52bfa1e30d",
   "metadata": {},
   "outputs": [],
   "source": [
    "name = \"心怡\"                                  # 字符串 str\n",
    "age = 16                                            # 整数 int\n",
    "height = 1.7                                      # 小数 float\n",
    "expressions = [2.1, 3.5, 0.0]           # 列表 list"
   ]
  },
  {
   "attachments": {},
   "cell_type": "markdown",
   "id": "8092d1db-e766-4fce-9171-e0b7da7914dd",
   "metadata": {},
   "source": [
    "生物个体建模（变量 + 基础类型）"
   ]
  },
  {
   "cell_type": "code",
   "execution_count": null,
   "id": "00237eca-f39c-4187-b566-624d398d43df",
   "metadata": {},
   "outputs": [],
   "source": [
    "# 使用变量模拟一个人的生物信息\n",
    "name = \"心怡\"\n",
    "age = 23\n",
    "height = 1.75  # 米\n",
    "weight = 62.5  # 公斤\n",
    "gene_type = “XY\"  # 模拟基因型\n"
   ]
  },
  {
   "attachments": {},
   "cell_type": "markdown",
   "id": "088d9edd-5ea7-40b9-bab5-fc68bb1e6a94",
   "metadata": {},
   "source": [
    "使用列表模拟基因表达/多样本数据"
   ]
  },
  {
   "cell_type": "code",
   "execution_count": null,
   "id": "c6bb4ee4-5759-4713-8d53-113d72277fb5",
   "metadata": {},
   "outputs": [],
   "source": [
    "# 一个基因在不同组织的表达值\n",
    "gene_expression = [2.5, 3.1, 0.0, 7.8, 1.9]\n",
    "\n",
    "# 多个学生的BMI\n",
    "bmi_values = [19.8, 22.5, 18.2, 24.1]\n"
   ]
  },
  {
   "attachments": {},
   "cell_type": "markdown",
   "id": "f9007cdc-70f5-48d2-bbf4-5abc297ea160",
   "metadata": {},
   "source": [
    "粗心师兄不记得基因在第3个组织中的表达情况了，请你帮忙查下"
   ]
  },
  {
   "cell_type": "code",
   "execution_count": 4,
   "id": "39c71d9b-2fe8-448e-9eda-b05f554a454f",
   "metadata": {},
   "outputs": [
    {
     "name": "stdout",
     "output_type": "stream",
     "text": [
      "3.1\n"
     ]
    }
   ],
   "source": [
    "# 一个基因在不同组织的表达值 \n",
    "gene_expression = [2.5, 3.1, 0.0, 7.8, 1.9] \n",
    "print(gene_expression[1])\n"
   ]
  },
  {
   "attachments": {},
   "cell_type": "markdown",
   "id": "234e208e-566e-4813-8c19-e7b9e9668e11",
   "metadata": {},
   "source": [
    "自己创建一个新的基因表达列表 \n",
    "\n",
    "计算----表达类型，表达数据点数量，表达总量，最大表达值"
   ]
  },
  {
   "cell_type": "code",
   "execution_count": null,
   "id": "e563e696-091c-4a6a-a138-0647f56ae46d",
   "metadata": {},
   "outputs": [],
   "source": [
    "# 一个基因在不同组织的表达值 \n",
    "gene_expression = [2.5, 3.1, 0.0, 7.8, 1.9] \n",
    "print(\"表达类型:\", type(gene_expression)) \n",
    "print(\"表达数据点数量:\", len(gene_expression)) \n",
    "print(\"表达总量:\", sum(gene_expression)) \n",
    "print(\"最大表达值:\", max(gene_expression))\n"
   ]
  },
  {
   "attachments": {},
   "cell_type": "markdown",
   "id": "a687331d-336d-4b4b-8f5e-74aebe490efb",
   "metadata": {},
   "source": [
    "输入体征信息，输出 BMI 值"
   ]
  },
  {
   "cell_type": "code",
   "execution_count": 6,
   "id": "783ed459-b28f-488b-b904-cef2503cfdc0",
   "metadata": {},
   "outputs": [
    {
     "name": "stdout",
     "output_type": "stream",
     "text": [
      "请输入你的身高（米）： 1.75\n",
      "请输入你的体重（公斤）： 62\n"
     ]
    },
    {
     "name": "stdout",
     "output_type": "stream",
     "text": [
      "你的 BMI 是：20.24\n"
     ]
    }
   ],
   "source": [
    "height = float(input(\"请输入你的身高（米）：\"))\n",
    "weight = float(input(\"请输入你的体重（公斤）：\"))\n",
    "bmi = weight / (height ** 2)\n",
    "print(f\"你的 BMI 是：{bmi:.2f}\")\n"
   ]
  },
  {
   "attachments": {},
   "cell_type": "markdown",
   "id": "d2763386-d4e9-4947-bbef-622e1d08c8b2",
   "metadata": {},
   "source": [
    "构建一个生信样本分析器（小项目）"
   ]
  },
  {
   "cell_type": "code",
   "execution_count": null,
   "id": "3386f0a1-f0d8-4886-adb3-4777d43426fa",
   "metadata": {},
   "outputs": [],
   "source": [
    "name = input(\"请输入姓名：\")\n",
    "height = float(input(\"请输入身高（米）：\"))\n",
    "weight = float(input(\"请输入体重（公斤）：\"))\n",
    "\n",
    "# 输入多个表达数据\n",
    "expression_str = input(\"请输入5个基因表达量（空格分隔）：\")\n",
    "expression = [float(x) for x in expression_str.split()]\n",
    "\n",
    "bmi = weight / (height ** 2)\n",
    "avg_exp = sum(expression) / len(expression)\n",
    "\n",
    "print(f\"\\n{name} 的分析报告：\")\n",
    "print(f\"- BMI 值为：{bmi:.2f}\")\n",
    "print(f\"- 平均表达量为：{avg_exp:.2f}\")\n",
    "\n",
    "# 简单条件判断\n",
    "if bmi > 25:\n",
    "    print(\"提示：BMI 偏高，注意健康\")\n",
    "if avg_exp < 1.0:\n",
    "    print(\"提示：基因表达可能低于常值，建议复查\")\n"
   ]
  },
  {
   "cell_type": "code",
   "execution_count": 5,
   "id": "4ef320ec-b2b0-4315-9ef1-5072135b81cb",
   "metadata": {},
   "outputs": [
    {
     "name": "stdout",
     "output_type": "stream",
     "text": [
      "4.3\n"
     ]
    }
   ],
   "source": [
    "expression = 2.0 + 3.5 - 1.2\n",
    "print(expression)"
   ]
  },
  {
   "cell_type": "code",
   "execution_count": null,
   "id": "08aec188-310f-4d98-b159-e054c918ad7c",
   "metadata": {},
   "outputs": [],
   "source": []
  }
 ],
 "metadata": {
  "kernelspec": {
   "display_name": "Python 3 (ipykernel)",
   "language": "python",
   "name": "python3"
  },
  "language_info": {
   "codemirror_mode": {
    "name": "ipython",
    "version": 3
   },
   "file_extension": ".py",
   "mimetype": "text/x-python",
   "name": "python",
   "nbconvert_exporter": "python",
   "pygments_lexer": "ipython3",
   "version": "3.12.7"
  }
 },
 "nbformat": 4,
 "nbformat_minor": 5
}
